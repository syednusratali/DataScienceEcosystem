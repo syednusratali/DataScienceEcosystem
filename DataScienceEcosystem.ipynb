{
 "cells": [
  {
   "cell_type": "markdown",
   "id": "a5f40a44-a2e3-438c-a23b-80faff4125f5",
   "metadata": {},
   "source": [
    "# Data Science Tools and Ecosystem"
   ]
  },
  {
   "cell_type": "markdown",
   "id": "30187fe5-c8cb-4ce6-8ea5-1491421b8020",
   "metadata": {},
   "source": []
  },
  {
   "cell_type": "markdown",
   "id": "dc5655dd-43a2-4e84-9cb3-575b6753ffdf",
   "metadata": {},
   "source": [
    "In this notebook, Data Science Tools and Ecosystem are summarized."
   ]
  },
  {
   "cell_type": "markdown",
   "id": "c2ee9624-22a6-40d4-b5fb-451cfdc893df",
   "metadata": {},
   "source": []
  },
  {
   "cell_type": "markdown",
   "id": "3062dea8-3ccd-4dc7-8357-70025e3ce6c3",
   "metadata": {},
   "source": [
    "**Objectives:**\n",
    "\n",
    "- List popular languages for Data Science  \n",
    "- List common Data Science libraries  \n",
    "- Identify open source Data Science tools  \n",
    "- Perform simple arithmetic operations in Python  \n",
    "- Convert time units using Python \n"
   ]
  },
  {
   "cell_type": "markdown",
   "id": "6bea0e63-3020-4781-919b-1e4d4a283f2e",
   "metadata": {},
   "source": [
    "Some of the popular languages that Data Scientists use are:\n",
    "\n",
    "1. Python  \n",
    "2. R  \n",
    "3. SQL  "
   ]
  },
  {
   "cell_type": "code",
   "execution_count": null,
   "id": "1e40b894-6b68-49b0-b234-c47cf8b3c0b2",
   "metadata": {},
   "outputs": [],
   "source": []
  },
  {
   "cell_type": "markdown",
   "id": "4fd96227-6dc2-4f14-8602-2e410a18f834",
   "metadata": {},
   "source": [
    "Some of the commonly used libraries used by Data Scientists include:\n",
    "\n",
    "1. NumPy  \n",
    "2. Pandas  \n",
    "3. Matplotlib  "
   ]
  },
  {
   "cell_type": "markdown",
   "id": "315e2440-a4e8-440a-a543-5f15d9ca6039",
   "metadata": {},
   "source": []
  },
  {
   "cell_type": "markdown",
   "id": "2506cfbe-8b1a-4f58-857a-d61a94cc82a9",
   "metadata": {},
   "source": [
    "| Data Science Tools |\n",
    "|--------------------|\n",
    "| Jupyter Notebook   |\n",
    "| RStudio            |\n",
    "| VS Code            |"
   ]
  },
  {
   "cell_type": "markdown",
   "id": "f333bfb1-4e4c-4600-8b45-ad15814b6163",
   "metadata": {},
   "source": []
  },
  {
   "cell_type": "markdown",
   "id": "22376c30-04f0-40e3-a6f7-890b801fc954",
   "metadata": {},
   "source": [
    "### Below are a few examples of evaluating arithmetic expressions in Python."
   ]
  },
  {
   "cell_type": "code",
   "execution_count": null,
   "id": "3d834aae-0438-4667-b499-04307e3e59db",
   "metadata": {},
   "outputs": [],
   "source": []
  },
  {
   "cell_type": "code",
   "execution_count": 5,
   "id": "31a46e81-a31b-492c-983e-2a6354584b6d",
   "metadata": {},
   "outputs": [
    {
     "data": {
      "text/plain": [
       "17"
      ]
     },
     "execution_count": 5,
     "metadata": {},
     "output_type": "execute_result"
    }
   ],
   "source": [
    "# This is a simple arithmetic expression to multiply then add integers.\n",
    "(3 * 4) + 5"
   ]
  },
  {
   "cell_type": "code",
   "execution_count": null,
   "id": "8cfa824c-0e5d-4be1-b3a8-401d63348abe",
   "metadata": {},
   "outputs": [],
   "source": []
  },
  {
   "cell_type": "code",
   "execution_count": 6,
   "id": "350226ec-9bbe-4761-b2aa-ad640e74815a",
   "metadata": {},
   "outputs": [
    {
     "data": {
      "text/plain": [
       "3.3333333333333335"
      ]
     },
     "execution_count": 6,
     "metadata": {},
     "output_type": "execute_result"
    }
   ],
   "source": [
    "# This will convert 200 minutes to hours by dividing by 60.\n",
    "200 / 60"
   ]
  },
  {
   "cell_type": "markdown",
   "id": "97b77fd4-cb75-452d-a64f-f16ce0d9bf29",
   "metadata": {},
   "source": []
  },
  {
   "cell_type": "markdown",
   "id": "2dfa9c22-1c61-48f0-b52f-636cc40c8783",
   "metadata": {},
   "source": [
    "## Author\n",
    "\n",
    "Syed Nusrat Ali\n"
   ]
  },
  {
   "cell_type": "code",
   "execution_count": null,
   "id": "b3cbee01-2c5d-4b68-a118-104af779be61",
   "metadata": {},
   "outputs": [],
   "source": []
  }
 ],
 "metadata": {
  "kernelspec": {
   "display_name": "Python 3 (ipykernel)",
   "language": "python",
   "name": "python3"
  },
  "language_info": {
   "codemirror_mode": {
    "name": "ipython",
    "version": 3
   },
   "file_extension": ".py",
   "mimetype": "text/x-python",
   "name": "python",
   "nbconvert_exporter": "python",
   "pygments_lexer": "ipython3",
   "version": "3.12.8"
  }
 },
 "nbformat": 4,
 "nbformat_minor": 5
}
